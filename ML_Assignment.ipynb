{
  "nbformat": 4,
  "nbformat_minor": 0,
  "metadata": {
    "colab": {
      "provenance": [],
      "toc_visible": true,
      "authorship_tag": "ABX9TyPKcitJ2UvscAt+BGynbDqn",
      "include_colab_link": true
    },
    "kernelspec": {
      "name": "python3",
      "display_name": "Python 3"
    },
    "language_info": {
      "name": "python"
    }
  },
  "cells": [
    {
      "cell_type": "markdown",
      "metadata": {
        "id": "view-in-github",
        "colab_type": "text"
      },
      "source": [
        "<a href=\"https://colab.research.google.com/github/lakshay-batra712/Lakshay_Batra_102303743_UML501/blob/main/ML_Assignment.ipynb\" target=\"_parent\"><img src=\"https://colab.research.google.com/assets/colab-badge.svg\" alt=\"Open In Colab\"/></a>"
      ]
    },
    {
      "cell_type": "code",
      "execution_count": null,
      "metadata": {
        "id": "JZpM4W3Lw0WM"
      },
      "outputs": [],
      "source": [
        "import numpy as np"
      ]
    },
    {
      "cell_type": "markdown",
      "source": [
        "# Q1 A"
      ],
      "metadata": {
        "id": "Fp_KZDWcxviz"
      }
    },
    {
      "cell_type": "code",
      "source": [
        "arr =np.array([1,2,3,6,4,5])\n",
        "arr= np.flip(arr)\n",
        "arr"
      ],
      "metadata": {
        "colab": {
          "base_uri": "https://localhost:8080/"
        },
        "id": "ZorrxsOrxC2q",
        "outputId": "0c4511ba-dc40-4945-8b54-9d3bfb4a9d86"
      },
      "execution_count": null,
      "outputs": [
        {
          "output_type": "execute_result",
          "data": {
            "text/plain": [
              "array([5, 4, 6, 3, 2, 1])"
            ]
          },
          "metadata": {},
          "execution_count": 5
        }
      ]
    },
    {
      "cell_type": "markdown",
      "source": [
        "# Q1 B"
      ],
      "metadata": {
        "id": "aE27UwaHxy-v"
      }
    },
    {
      "cell_type": "code",
      "source": [
        "array1 = np.array([[1, 2, 3], [2, 4, 5], [1, 2, 3]])\n",
        "flatarr=array1.flatten()\n",
        "print(flatarr)\n",
        "\n",
        "flat2arr=array1.ravel()\n",
        "print(flat2arr)"
      ],
      "metadata": {
        "colab": {
          "base_uri": "https://localhost:8080/"
        },
        "id": "qUkqmawkxZyk",
        "outputId": "b6d817bd-05a6-44d7-ff4f-f78bef6d02bc"
      },
      "execution_count": null,
      "outputs": [
        {
          "output_type": "stream",
          "name": "stdout",
          "text": [
            "[1 2 3 2 4 5 1 2 3]\n",
            "[1 2 3 2 4 5 1 2 3]\n"
          ]
        }
      ]
    },
    {
      "cell_type": "markdown",
      "source": [
        "# Q1 C"
      ],
      "metadata": {
        "id": "5ivuE_CFylZf"
      }
    },
    {
      "cell_type": "code",
      "source": [
        "arr1 = np.array([[1, 2], [3, 4]])\n",
        "arr2 = np.array([[1, 2], [3, 4]])\n",
        "\n",
        "np.array_equal(arr1,arr2)"
      ],
      "metadata": {
        "colab": {
          "base_uri": "https://localhost:8080/"
        },
        "id": "X8fJ8DlmyYt1",
        "outputId": "59560d45-8223-463c-dc15-74c7e949fee1"
      },
      "execution_count": null,
      "outputs": [
        {
          "output_type": "execute_result",
          "data": {
            "text/plain": [
              "True"
            ]
          },
          "metadata": {},
          "execution_count": 11
        }
      ]
    },
    {
      "cell_type": "markdown",
      "source": [
        "# Q1 D (i)"
      ],
      "metadata": {
        "id": "KIYz7UGXzGT8"
      }
    },
    {
      "cell_type": "code",
      "source": [
        "x = np.array([1,2,3,4,5,1,2,1,1,1])\n",
        "unique, counts = np.unique(x, return_counts=True)\n",
        "most_frequent = unique[np.argmax(counts)]\n",
        "indices = np.where(x == most_frequent)[0]\n",
        "print(most_frequent)\n",
        "print(indices)"
      ],
      "metadata": {
        "colab": {
          "base_uri": "https://localhost:8080/"
        },
        "id": "jeyKOYPM03Ra",
        "outputId": "957cc8db-d78f-4e81-9638-18ef02161335"
      },
      "execution_count": null,
      "outputs": [
        {
          "output_type": "stream",
          "name": "stdout",
          "text": [
            "1\n",
            "[0 5 7 8 9]\n"
          ]
        }
      ]
    },
    {
      "cell_type": "markdown",
      "source": [
        "# Q1 D (ii)"
      ],
      "metadata": {
        "id": "oGWUmu3T115I"
      }
    },
    {
      "cell_type": "code",
      "source": [
        "x = np.array([1, 1, 1, 2, 3, 4, 2, 4, 3, 3 ])\n",
        "unique, counts = np.unique(x, return_counts=True)\n",
        "most_frequent = unique[np.argmax(counts)]\n",
        "indices = np.where(x == most_frequent)[0]\n",
        "print(most_frequent)\n",
        "print(indices)"
      ],
      "metadata": {
        "colab": {
          "base_uri": "https://localhost:8080/"
        },
        "id": "c55zzZ2d1zEq",
        "outputId": "112e592f-b1da-4ad6-c1cc-0f45bc2eb5c4"
      },
      "execution_count": null,
      "outputs": [
        {
          "output_type": "stream",
          "name": "stdout",
          "text": [
            "1\n",
            "[0 1 2]\n"
          ]
        }
      ]
    },
    {
      "cell_type": "markdown",
      "source": [
        "# Q1 E (i)"
      ],
      "metadata": {
        "id": "CwrH7-ab05Vj"
      }
    },
    {
      "cell_type": "code",
      "source": [
        "gfg = np.matrix('[4, 1, 9; 12, 3, 1; 4, 5, 6]')\n",
        "sum=np.sum(gfg)\n",
        "print(sum)"
      ],
      "metadata": {
        "colab": {
          "base_uri": "https://localhost:8080/"
        },
        "id": "_2MI9PnrzAKO",
        "outputId": "8c6ee773-88b1-460d-8856-558f5cc20d27"
      },
      "execution_count": null,
      "outputs": [
        {
          "output_type": "stream",
          "name": "stdout",
          "text": [
            "45\n"
          ]
        }
      ]
    },
    {
      "cell_type": "markdown",
      "source": [
        "# Q1 E (ii)"
      ],
      "metadata": {
        "id": "6ztr5E-SzU9S"
      }
    },
    {
      "cell_type": "code",
      "source": [
        "rowsum=np.sum(gfg,axis=1)\n",
        "print(rowsum)"
      ],
      "metadata": {
        "colab": {
          "base_uri": "https://localhost:8080/"
        },
        "id": "am1joOg0zUCl",
        "outputId": "bd1ea475-a662-4334-ac3c-73c78424f9c1"
      },
      "execution_count": null,
      "outputs": [
        {
          "output_type": "stream",
          "name": "stdout",
          "text": [
            "[[14]\n",
            " [16]\n",
            " [15]]\n"
          ]
        }
      ]
    },
    {
      "cell_type": "markdown",
      "source": [
        "# Q1 E (iii)"
      ],
      "metadata": {
        "id": "RJwWCWR50tRY"
      }
    },
    {
      "cell_type": "code",
      "source": [
        "colsum=np.sum(gfg,axis=0)\n",
        "print(colsum)"
      ],
      "metadata": {
        "colab": {
          "base_uri": "https://localhost:8080/"
        },
        "id": "w6Zp3SAdzrch",
        "outputId": "ef1b90a9-5d10-43e7-cc49-2d7e033f192e"
      },
      "execution_count": null,
      "outputs": [
        {
          "output_type": "stream",
          "name": "stdout",
          "text": [
            "[[20  9 16]]\n"
          ]
        }
      ]
    },
    {
      "cell_type": "markdown",
      "source": [
        "# Q1 F(i)"
      ],
      "metadata": {
        "id": "kU6_P2SMz7_d"
      }
    },
    {
      "cell_type": "code",
      "source": [
        "n_array = np.array([[55, 25, 15],[30, 44, 2],[11, 45, 77]])\n",
        "diagsum=np.trace(n_array)\n",
        "print(diagsum)"
      ],
      "metadata": {
        "colab": {
          "base_uri": "https://localhost:8080/"
        },
        "id": "-7AbDDnPz2mB",
        "outputId": "9d3fbf6c-263a-470e-c478-25bc721c3c34"
      },
      "execution_count": null,
      "outputs": [
        {
          "output_type": "stream",
          "name": "stdout",
          "text": [
            "176\n"
          ]
        }
      ]
    },
    {
      "cell_type": "markdown",
      "source": [
        "# Q1 F (ii)"
      ],
      "metadata": {
        "id": "1jlMWxle0hKo"
      }
    },
    {
      "cell_type": "code",
      "source": [
        "eigenvalues, eigenvectors = np.linalg.eig(n_array)\n",
        "print(eigenvalues)\n"
      ],
      "metadata": {
        "colab": {
          "base_uri": "https://localhost:8080/"
        },
        "id": "m2WWbUvT0Lx-",
        "outputId": "157cb459-9c81-4b75-ea44-0ead0454fbdd"
      },
      "execution_count": null,
      "outputs": [
        {
          "output_type": "stream",
          "name": "stdout",
          "text": [
            "[98.16835147 28.097044   49.73460452]\n"
          ]
        }
      ]
    },
    {
      "cell_type": "markdown",
      "source": [
        "# Q1 F (iii)"
      ],
      "metadata": {
        "id": "pr_ZVIJi3BDn"
      }
    },
    {
      "cell_type": "code",
      "source": [
        "print(eigenvectors)"
      ],
      "metadata": {
        "colab": {
          "base_uri": "https://localhost:8080/"
        },
        "id": "p-m0pa7a2XJV",
        "outputId": "df3604c7-0698-4c96-ccc1-77ed2ab1bef2"
      },
      "execution_count": null,
      "outputs": [
        {
          "output_type": "stream",
          "name": "stdout",
          "text": [
            "[[ 0.4574917   0.34637121 -0.15017693]\n",
            " [ 0.28447814 -0.72784061 -0.4852124 ]\n",
            " [ 0.84248058  0.59184038  0.8614034 ]]\n"
          ]
        }
      ]
    },
    {
      "cell_type": "markdown",
      "source": [
        "# Q1 F (iv)"
      ],
      "metadata": {
        "id": "sC6MnZxw3Mh3"
      }
    },
    {
      "cell_type": "code",
      "source": [
        "n_array_inv=np.linalg.inv(n_array)\n",
        "print(n_array_inv)"
      ],
      "metadata": {
        "colab": {
          "base_uri": "https://localhost:8080/"
        },
        "id": "R-3xVBJM3Jhp",
        "outputId": "b07eacb9-325e-4137-e4fe-ef7c7c001af4"
      },
      "execution_count": null,
      "outputs": [
        {
          "output_type": "stream",
          "name": "stdout",
          "text": [
            "[[ 0.02404141 -0.00911212 -0.00444671]\n",
            " [-0.01667882  0.02966905  0.0024785 ]\n",
            " [ 0.00631287 -0.01603732  0.01217379]]\n"
          ]
        }
      ]
    },
    {
      "cell_type": "markdown",
      "source": [
        "# Q1 F (v)"
      ],
      "metadata": {
        "id": "OzBncFde4J-O"
      }
    },
    {
      "cell_type": "code",
      "source": [
        "n_array_det=np.linalg.det(n_array)\n",
        "print(n_array_det)"
      ],
      "metadata": {
        "colab": {
          "base_uri": "https://localhost:8080/"
        },
        "id": "7u5pJEq33X8J",
        "outputId": "3f42008e-36e3-45de-844d-d5fbd5b23e9f"
      },
      "execution_count": null,
      "outputs": [
        {
          "output_type": "stream",
          "name": "stdout",
          "text": [
            "137180.0000000001\n"
          ]
        }
      ]
    },
    {
      "cell_type": "markdown",
      "source": [
        "# Q1 G (i)"
      ],
      "metadata": {
        "id": "a_lQTD9I4MfO"
      }
    },
    {
      "cell_type": "code",
      "source": [
        "p = np.array([[1, 2], [2, 3]])\n",
        "q=np.array( [[4, 5], [6, 7]] )\n",
        "p_flat = p.flatten()\n",
        "q_flat = q.flatten()\n",
        "cov_matrix = np.cov(p_flat,q_flat)\n",
        "print(\"Covarience:\")\n",
        "print(cov_matrix)\n",
        "\n",
        "multiplied=p@q\n",
        "print(\"\\n Multiplication:\")\n",
        "print(multiplied)"
      ],
      "metadata": {
        "colab": {
          "base_uri": "https://localhost:8080/"
        },
        "id": "oUjx8CVB3kjg",
        "outputId": "cb221350-e75a-452e-aea6-677474931ac0"
      },
      "execution_count": null,
      "outputs": [
        {
          "output_type": "stream",
          "name": "stdout",
          "text": [
            "Covarience:\n",
            "[[0.66666667 1.        ]\n",
            " [1.         1.66666667]]\n",
            "\n",
            " Multiplication:\n",
            "[[16 19]\n",
            " [26 31]]\n"
          ]
        }
      ]
    },
    {
      "cell_type": "markdown",
      "source": [
        "# Q1 G (ii)"
      ],
      "metadata": {
        "id": "pZ0F9HEP65YM"
      }
    },
    {
      "cell_type": "code",
      "source": [
        "p = np.array([[1, 2], [2, 3], [4, 5]] )\n",
        "q = np.array([[4, 5, 1], [6, 7, 2]] )\n",
        "p_flat = p.flatten()\n",
        "q_flat = q.flatten()\n",
        "cov_matrix2 = np.cov(p_flat,q_flat)\n",
        "print(\"Covarience:\")\n",
        "print(cov_matrix2)\n",
        "\n",
        "multiplied2=p@q\n",
        "print(\"\\n Multiplication:\")\n",
        "print(multiplied2)"
      ],
      "metadata": {
        "colab": {
          "base_uri": "https://localhost:8080/"
        },
        "id": "qZwzFfs23_Vt",
        "outputId": "64a1b960-d95f-4903-b872-9db0a6625606"
      },
      "execution_count": null,
      "outputs": [
        {
          "output_type": "stream",
          "name": "stdout",
          "text": [
            "Covarience:\n",
            "[[2.16666667 0.23333333]\n",
            " [0.23333333 5.36666667]]\n",
            "\n",
            " Multiplication:\n",
            "[[16 19  5]\n",
            " [26 31  8]\n",
            " [46 55 14]]\n"
          ]
        }
      ]
    },
    {
      "cell_type": "markdown",
      "source": [
        "# Q1 H"
      ],
      "metadata": {
        "id": "FrbS49FU7au8"
      }
    },
    {
      "cell_type": "code",
      "source": [
        "x = np.array([[2, 3, 4], [3, 2, 9]])\n",
        "y = np.array([[1, 5, 0], [5, 10, 3]])\n",
        "inner_product = np.dot(x.flatten(), y.flatten())\n",
        "print (\"Inner Product: \")\n",
        "print(inner_product)\n",
        "\n",
        "outer_product = np.outer(x.flatten(), y.flatten())\n",
        "print(\"Outer Product:\")\n",
        "print(outer_product)\n",
        "\n",
        "x_flat = x.flatten()\n",
        "y_flat = y.flatten()\n",
        "x_repeated = np.repeat(x_flat, len(y_flat))\n",
        "y_tiled = np.tile(y_flat, len(x_flat))\n",
        "\n",
        "cartesian_prod = np.column_stack([x_repeated, y_tiled])\n",
        "print(\"Cartisian Product: \")\n",
        "print(cartesian_prod)\n"
      ],
      "metadata": {
        "colab": {
          "base_uri": "https://localhost:8080/"
        },
        "id": "301y6fRe7IaV",
        "outputId": "6218103a-091a-4b56-96ae-7ae9ded93e82"
      },
      "execution_count": null,
      "outputs": [
        {
          "output_type": "stream",
          "name": "stdout",
          "text": [
            "Inner Product: \n",
            "79\n",
            "Outer Product:\n",
            "[[ 2 10  0 10 20  6]\n",
            " [ 3 15  0 15 30  9]\n",
            " [ 4 20  0 20 40 12]\n",
            " [ 3 15  0 15 30  9]\n",
            " [ 2 10  0 10 20  6]\n",
            " [ 9 45  0 45 90 27]]\n",
            "Cartisian Product: \n",
            "[[ 2  1]\n",
            " [ 2  5]\n",
            " [ 2  0]\n",
            " [ 2  5]\n",
            " [ 2 10]\n",
            " [ 2  3]\n",
            " [ 3  1]\n",
            " [ 3  5]\n",
            " [ 3  0]\n",
            " [ 3  5]\n",
            " [ 3 10]\n",
            " [ 3  3]\n",
            " [ 4  1]\n",
            " [ 4  5]\n",
            " [ 4  0]\n",
            " [ 4  5]\n",
            " [ 4 10]\n",
            " [ 4  3]\n",
            " [ 3  1]\n",
            " [ 3  5]\n",
            " [ 3  0]\n",
            " [ 3  5]\n",
            " [ 3 10]\n",
            " [ 3  3]\n",
            " [ 2  1]\n",
            " [ 2  5]\n",
            " [ 2  0]\n",
            " [ 2  5]\n",
            " [ 2 10]\n",
            " [ 2  3]\n",
            " [ 9  1]\n",
            " [ 9  5]\n",
            " [ 9  0]\n",
            " [ 9  5]\n",
            " [ 9 10]\n",
            " [ 9  3]]\n"
          ]
        }
      ]
    },
    {
      "cell_type": "markdown",
      "source": [
        "# Q2(a)(i)"
      ],
      "metadata": {
        "id": "6BxNumWD-TYx"
      }
    },
    {
      "cell_type": "code",
      "source": [
        "array = np.array([[1,-2,3],[-4,5,-6]])\n",
        "absolute_array = np.absolute(array)\n",
        "print(absolute_array)"
      ],
      "metadata": {
        "colab": {
          "base_uri": "https://localhost:8080/"
        },
        "id": "0lT5qpUG7wtj",
        "outputId": "ed228d7d-2f1b-4cc6-b889-17b2143dc842"
      },
      "execution_count": null,
      "outputs": [
        {
          "output_type": "stream",
          "name": "stdout",
          "text": [
            "[[1 2 3]\n",
            " [4 5 6]]\n"
          ]
        }
      ]
    },
    {
      "cell_type": "markdown",
      "source": [
        "# Q2 A (ii)"
      ],
      "metadata": {
        "id": "3IzhPKgg-4-A"
      }
    },
    {
      "cell_type": "code",
      "source": [
        "flat = array.flatten()\n",
        "p_flat = np.percentile(flat, [25, 50, 75])\n",
        "print(\"Percentiles (flattened):\", p_flat)\n",
        "p_col = np.percentile(array, [25, 50, 75], axis=0)\n",
        "print(\"Percentiles (each column):\\n\", p_col)\n",
        "p_row = np.percentile(array, [25, 50, 75], axis=1)\n",
        "print(\"Percentiles (each row):\\n\", p_row)\n",
        "\n"
      ],
      "metadata": {
        "colab": {
          "base_uri": "https://localhost:8080/"
        },
        "id": "ME7Z1ihm-qlW",
        "outputId": "e6db5b0b-c6e2-4ca8-a89e-87a1a8bc8501"
      },
      "execution_count": null,
      "outputs": [
        {
          "output_type": "stream",
          "name": "stdout",
          "text": [
            "Percentiles (flattened): [-3.5 -0.5  2.5]\n",
            "Percentiles (each column):\n",
            " [[-2.75 -0.25 -3.75]\n",
            " [-1.5   1.5  -1.5 ]\n",
            " [-0.25  3.25  0.75]]\n",
            "Percentiles (each row):\n",
            " [[-0.5 -5. ]\n",
            " [ 1.  -4. ]\n",
            " [ 2.   0.5]]\n"
          ]
        }
      ]
    },
    {
      "cell_type": "markdown",
      "source": [
        "# Q2 (a)(iii)"
      ],
      "metadata": {
        "id": "e342ixdsOm3W"
      }
    },
    {
      "cell_type": "code",
      "source": [
        "mean_flat = np.mean(flat)\n",
        "median_flat = np.median(flat)\n",
        "std_flat = np.std(flat)\n",
        "print(\"Flattened -> \")\n",
        "print (\"Mean:\",mean_flat, \"Median:\", median_flat, \"Std Dev:\", std_flat)\n",
        "\n",
        "mean_col = np.mean(array, axis=0)\n",
        "median_col = np.median(array, axis=0)\n",
        "std_col = np.std(array, axis=0)\n",
        "print(\"Column-wise -> \")\n",
        "print(\"Mean:\",mean_col, \"Median:\", median_col, \"Std Dev:\", std_col)\n",
        "\n",
        "mean_row = np.mean(array, axis=1)\n",
        "median_row = np.median(array, axis=1)\n",
        "std_row = np.std(array, axis=1)\n",
        "print(\"Row-wise -> \")\n",
        "print(\"Mean:\" ,mean_row, \"Median:\", median_row, \"Std Dev:\", std_row)\n"
      ],
      "metadata": {
        "colab": {
          "base_uri": "https://localhost:8080/"
        },
        "id": "MJgLfcfP--ba",
        "outputId": "b413fb21-4f0d-4224-e944-6c30b5eb0974"
      },
      "execution_count": null,
      "outputs": [
        {
          "output_type": "stream",
          "name": "stdout",
          "text": [
            "Flattened -> \n",
            "Mean: -0.5 Median: -0.5 Std Dev: 3.8622100754188224\n",
            "Column-wise -> \n",
            "Mean: [-1.5  1.5 -1.5] Median: [-1.5  1.5 -1.5] Std Dev: [2.5 3.5 4.5]\n",
            "Row-wise -> \n",
            "Mean: [ 0.66666667 -1.66666667] Median: [ 1. -4.] Std Dev: [2.05480467 4.78423336]\n"
          ]
        }
      ]
    },
    {
      "cell_type": "markdown",
      "source": [
        "# Q2 (b)"
      ],
      "metadata": {
        "id": "8OPthz94OrdY"
      }
    },
    {
      "cell_type": "code",
      "source": [
        "a=np.array([-1.8, -1.6, -0.5, 0.5,1.6, 1.8, 3.0])\n",
        "floor = np.floor(a)\n",
        "print( \"floor:\",floor)\n",
        "ceil = np.ceil(a)\n",
        "print(\"ceiling:\", ceil)\n",
        "trunc=np.trunc(a)\n",
        "print(\"truncated:\", trunc)\n",
        "rounded=np.round(a)\n",
        "print(\"Rounded:\", rounded)\n"
      ],
      "metadata": {
        "colab": {
          "base_uri": "https://localhost:8080/"
        },
        "id": "w7PcBPihAJyx",
        "outputId": "feb0c6fc-24e4-4d0c-ceb3-c0914dd833cc"
      },
      "execution_count": null,
      "outputs": [
        {
          "output_type": "stream",
          "name": "stdout",
          "text": [
            "floor: [-2. -2. -1.  0.  1.  1.  3.]\n",
            "ceiling: [-1. -1. -0.  1.  2.  2.  3.]\n",
            "truncated: [-1. -1. -0.  0.  1.  1.  3.]\n",
            "Rounded: [-2. -2. -0.  0.  2.  2.  3.]\n"
          ]
        }
      ]
    },
    {
      "cell_type": "markdown",
      "source": [
        "# Q3 A (i)"
      ],
      "metadata": {
        "id": "qhoB-Tl4BiV4"
      }
    },
    {
      "cell_type": "code",
      "source": [
        "array=np.array([10, 52, 62, 16, 16, 54, 453])\n",
        "sorted_arr=np.sort(array)\n",
        "print(sorted_arr)"
      ],
      "metadata": {
        "colab": {
          "base_uri": "https://localhost:8080/"
        },
        "id": "CpQmdme0BAvK",
        "outputId": "0ecb7964-437f-494b-9fce-91fcadf3e56f"
      },
      "execution_count": null,
      "outputs": [
        {
          "output_type": "stream",
          "name": "stdout",
          "text": [
            "[ 10  16  16  52  54  62 453]\n"
          ]
        }
      ]
    },
    {
      "cell_type": "markdown",
      "source": [
        "# Q3 A (ii)"
      ],
      "metadata": {
        "id": "JH7rpT3POWDA"
      }
    },
    {
      "cell_type": "code",
      "source": [
        "sort_indices=np.argsort(array)\n",
        "print(sort_indices)"
      ],
      "metadata": {
        "colab": {
          "base_uri": "https://localhost:8080/"
        },
        "id": "FL5Sz-EyB2FM",
        "outputId": "ccce61ec-23d5-4c01-8e63-3f5bcf1de809"
      },
      "execution_count": null,
      "outputs": [
        {
          "output_type": "stream",
          "name": "stdout",
          "text": [
            "[0 3 4 1 5 2 6]\n"
          ]
        }
      ]
    },
    {
      "cell_type": "markdown",
      "source": [
        "# Q3 A (iii)"
      ],
      "metadata": {
        "id": "spSCa801OYX6"
      }
    },
    {
      "cell_type": "code",
      "source": [
        "smallest_4=sorted_arr[:4]\n",
        "print(smallest_4)"
      ],
      "metadata": {
        "colab": {
          "base_uri": "https://localhost:8080/"
        },
        "id": "UMNLElrsB9P5",
        "outputId": "e1a59cfd-5926-441e-ad1a-29276d9d8b42"
      },
      "execution_count": null,
      "outputs": [
        {
          "output_type": "stream",
          "name": "stdout",
          "text": [
            "[10 16 16 52]\n"
          ]
        }
      ]
    },
    {
      "cell_type": "markdown",
      "source": [
        "# Q3 A (iv)"
      ],
      "metadata": {
        "id": "HcHHNvXBOcOY"
      }
    },
    {
      "cell_type": "code",
      "source": [
        "largest_5=sorted_arr[-5:]\n",
        "print(largest_5)"
      ],
      "metadata": {
        "colab": {
          "base_uri": "https://localhost:8080/"
        },
        "id": "xl-8rOMBCGtK",
        "outputId": "2d1a3d5b-140d-40c0-e51d-646fe3afc8e4"
      },
      "execution_count": null,
      "outputs": [
        {
          "output_type": "stream",
          "name": "stdout",
          "text": [
            "[ 16  52  54  62 453]\n"
          ]
        }
      ]
    },
    {
      "cell_type": "markdown",
      "source": [
        "# Q3 B"
      ],
      "metadata": {
        "id": "S-cNdJR9OdzE"
      }
    },
    {
      "cell_type": "code",
      "source": [
        "array=np.array([1.0,1.2,2.2,2.0,3.0,2.0])\n",
        "integer_elements = array[array == np.floor(array)]\n",
        "print(\"Integer elements:\",integer_elements)\n",
        "float_elements = array[array != np.floor(array)]\n",
        "print(\"Float elements:\",float_elements)"
      ],
      "metadata": {
        "colab": {
          "base_uri": "https://localhost:8080/"
        },
        "id": "rn1oah-DCaAx",
        "outputId": "23061fab-fa07-4d16-a4d9-450dcd3cb480"
      },
      "execution_count": null,
      "outputs": [
        {
          "output_type": "stream",
          "name": "stdout",
          "text": [
            "Integer elements: [1. 2. 3. 2.]\n",
            "Float elements: [1.2 2.2]\n"
          ]
        }
      ]
    },
    {
      "cell_type": "markdown",
      "source": [
        "# Q4"
      ],
      "metadata": {
        "id": "pDWo7frSOQ0A"
      }
    },
    {
      "cell_type": "code",
      "source": [
        "from google.colab import files\n",
        "uploaded = files.upload()\n"
      ],
      "metadata": {
        "colab": {
          "base_uri": "https://localhost:8080/",
          "height": 90
        },
        "id": "jLEZqEwdDBmy",
        "outputId": "dfdaeb9c-57fa-49f9-fa94-0e7cf2a61f60"
      },
      "execution_count": null,
      "outputs": [
        {
          "output_type": "display_data",
          "data": {
            "text/plain": [
              "<IPython.core.display.HTML object>"
            ],
            "text/html": [
              "\n",
              "     <input type=\"file\" id=\"files-d7b91d6d-4455-4620-8ec2-54b3c3bfdf44\" name=\"files[]\" multiple disabled\n",
              "        style=\"border:none\" />\n",
              "     <output id=\"result-d7b91d6d-4455-4620-8ec2-54b3c3bfdf44\">\n",
              "      Upload widget is only available when the cell has been executed in the\n",
              "      current browser session. Please rerun this cell to enable.\n",
              "      </output>\n",
              "      <script>// Copyright 2017 Google LLC\n",
              "//\n",
              "// Licensed under the Apache License, Version 2.0 (the \"License\");\n",
              "// you may not use this file except in compliance with the License.\n",
              "// You may obtain a copy of the License at\n",
              "//\n",
              "//      http://www.apache.org/licenses/LICENSE-2.0\n",
              "//\n",
              "// Unless required by applicable law or agreed to in writing, software\n",
              "// distributed under the License is distributed on an \"AS IS\" BASIS,\n",
              "// WITHOUT WARRANTIES OR CONDITIONS OF ANY KIND, either express or implied.\n",
              "// See the License for the specific language governing permissions and\n",
              "// limitations under the License.\n",
              "\n",
              "/**\n",
              " * @fileoverview Helpers for google.colab Python module.\n",
              " */\n",
              "(function(scope) {\n",
              "function span(text, styleAttributes = {}) {\n",
              "  const element = document.createElement('span');\n",
              "  element.textContent = text;\n",
              "  for (const key of Object.keys(styleAttributes)) {\n",
              "    element.style[key] = styleAttributes[key];\n",
              "  }\n",
              "  return element;\n",
              "}\n",
              "\n",
              "// Max number of bytes which will be uploaded at a time.\n",
              "const MAX_PAYLOAD_SIZE = 100 * 1024;\n",
              "\n",
              "function _uploadFiles(inputId, outputId) {\n",
              "  const steps = uploadFilesStep(inputId, outputId);\n",
              "  const outputElement = document.getElementById(outputId);\n",
              "  // Cache steps on the outputElement to make it available for the next call\n",
              "  // to uploadFilesContinue from Python.\n",
              "  outputElement.steps = steps;\n",
              "\n",
              "  return _uploadFilesContinue(outputId);\n",
              "}\n",
              "\n",
              "// This is roughly an async generator (not supported in the browser yet),\n",
              "// where there are multiple asynchronous steps and the Python side is going\n",
              "// to poll for completion of each step.\n",
              "// This uses a Promise to block the python side on completion of each step,\n",
              "// then passes the result of the previous step as the input to the next step.\n",
              "function _uploadFilesContinue(outputId) {\n",
              "  const outputElement = document.getElementById(outputId);\n",
              "  const steps = outputElement.steps;\n",
              "\n",
              "  const next = steps.next(outputElement.lastPromiseValue);\n",
              "  return Promise.resolve(next.value.promise).then((value) => {\n",
              "    // Cache the last promise value to make it available to the next\n",
              "    // step of the generator.\n",
              "    outputElement.lastPromiseValue = value;\n",
              "    return next.value.response;\n",
              "  });\n",
              "}\n",
              "\n",
              "/**\n",
              " * Generator function which is called between each async step of the upload\n",
              " * process.\n",
              " * @param {string} inputId Element ID of the input file picker element.\n",
              " * @param {string} outputId Element ID of the output display.\n",
              " * @return {!Iterable<!Object>} Iterable of next steps.\n",
              " */\n",
              "function* uploadFilesStep(inputId, outputId) {\n",
              "  const inputElement = document.getElementById(inputId);\n",
              "  inputElement.disabled = false;\n",
              "\n",
              "  const outputElement = document.getElementById(outputId);\n",
              "  outputElement.innerHTML = '';\n",
              "\n",
              "  const pickedPromise = new Promise((resolve) => {\n",
              "    inputElement.addEventListener('change', (e) => {\n",
              "      resolve(e.target.files);\n",
              "    });\n",
              "  });\n",
              "\n",
              "  const cancel = document.createElement('button');\n",
              "  inputElement.parentElement.appendChild(cancel);\n",
              "  cancel.textContent = 'Cancel upload';\n",
              "  const cancelPromise = new Promise((resolve) => {\n",
              "    cancel.onclick = () => {\n",
              "      resolve(null);\n",
              "    };\n",
              "  });\n",
              "\n",
              "  // Wait for the user to pick the files.\n",
              "  const files = yield {\n",
              "    promise: Promise.race([pickedPromise, cancelPromise]),\n",
              "    response: {\n",
              "      action: 'starting',\n",
              "    }\n",
              "  };\n",
              "\n",
              "  cancel.remove();\n",
              "\n",
              "  // Disable the input element since further picks are not allowed.\n",
              "  inputElement.disabled = true;\n",
              "\n",
              "  if (!files) {\n",
              "    return {\n",
              "      response: {\n",
              "        action: 'complete',\n",
              "      }\n",
              "    };\n",
              "  }\n",
              "\n",
              "  for (const file of files) {\n",
              "    const li = document.createElement('li');\n",
              "    li.append(span(file.name, {fontWeight: 'bold'}));\n",
              "    li.append(span(\n",
              "        `(${file.type || 'n/a'}) - ${file.size} bytes, ` +\n",
              "        `last modified: ${\n",
              "            file.lastModifiedDate ? file.lastModifiedDate.toLocaleDateString() :\n",
              "                                    'n/a'} - `));\n",
              "    const percent = span('0% done');\n",
              "    li.appendChild(percent);\n",
              "\n",
              "    outputElement.appendChild(li);\n",
              "\n",
              "    const fileDataPromise = new Promise((resolve) => {\n",
              "      const reader = new FileReader();\n",
              "      reader.onload = (e) => {\n",
              "        resolve(e.target.result);\n",
              "      };\n",
              "      reader.readAsArrayBuffer(file);\n",
              "    });\n",
              "    // Wait for the data to be ready.\n",
              "    let fileData = yield {\n",
              "      promise: fileDataPromise,\n",
              "      response: {\n",
              "        action: 'continue',\n",
              "      }\n",
              "    };\n",
              "\n",
              "    // Use a chunked sending to avoid message size limits. See b/62115660.\n",
              "    let position = 0;\n",
              "    do {\n",
              "      const length = Math.min(fileData.byteLength - position, MAX_PAYLOAD_SIZE);\n",
              "      const chunk = new Uint8Array(fileData, position, length);\n",
              "      position += length;\n",
              "\n",
              "      const base64 = btoa(String.fromCharCode.apply(null, chunk));\n",
              "      yield {\n",
              "        response: {\n",
              "          action: 'append',\n",
              "          file: file.name,\n",
              "          data: base64,\n",
              "        },\n",
              "      };\n",
              "\n",
              "      let percentDone = fileData.byteLength === 0 ?\n",
              "          100 :\n",
              "          Math.round((position / fileData.byteLength) * 100);\n",
              "      percent.textContent = `${percentDone}% done`;\n",
              "\n",
              "    } while (position < fileData.byteLength);\n",
              "  }\n",
              "\n",
              "  // All done.\n",
              "  yield {\n",
              "    response: {\n",
              "      action: 'complete',\n",
              "    }\n",
              "  };\n",
              "}\n",
              "\n",
              "scope.google = scope.google || {};\n",
              "scope.google.colab = scope.google.colab || {};\n",
              "scope.google.colab._files = {\n",
              "  _uploadFiles,\n",
              "  _uploadFilesContinue,\n",
              "};\n",
              "})(self);\n",
              "</script> "
            ]
          },
          "metadata": {}
        },
        {
          "output_type": "stream",
          "name": "stderr",
          "text": [
            "\n",
            "KeyboardInterrupt\n",
            "\n"
          ]
        }
      ]
    },
    {
      "cell_type": "code",
      "source": [
        "from PIL import Image, ImageFile\n",
        "import numpy as np\n",
        "\n",
        "ImageFile.LOAD_TRUNCATED_IMAGES = True\n",
        "\n",
        "def img_to_array(path):\n",
        "    try:\n",
        "        img = Image.open(path)\n",
        "        img_arr = np.array(img)\n",
        "\n",
        "        if img_arr.ndim == 2:\n",
        "            print(\"Grayscale image detected\")\n",
        "            np.savetxt(\"image_grayscale.txt\", img_arr, fmt='%d')\n",
        "            return \"grayscale\"\n",
        "\n",
        "        elif img_arr.ndim == 3:\n",
        "            print(\"RGB image detected\")\n",
        "            flat = img_arr.reshape(-1, img_arr.shape[2])\n",
        "            np.savetxt(\"image_rgb.txt\", flat, fmt='%d')\n",
        "            return \"rgb\"\n",
        "\n",
        "        else:\n",
        "            print(\"Image format not recognized\")\n",
        "            return None\n",
        "\n",
        "    except Exception as e:\n",
        "        print(\"Error:\", e)\n",
        "        return None\n",
        "\n",
        "image_type = img_to_array(\"scorpio.jpeg\")\n",
        "\n",
        "if image_type == \"grayscale\":\n",
        "    gray = np.loadtxt(\"image_grayscale.txt\", dtype=int)\n",
        "    print(\"Loaded grayscale shape:\", gray.shape)\n",
        "    print(gray[:5])\n",
        "\n",
        "elif image_type == \"rgb\":\n",
        "    rgb = np.loadtxt(\"image_rgb.txt\", dtype=int)\n",
        "    print(\"Loaded RGB shape:\", rgb.shape)\n",
        "    print(rgb[:5])\n",
        "else:\n",
        "    print(\"Could not load the saved image data.\")"
      ],
      "metadata": {
        "colab": {
          "base_uri": "https://localhost:8080/"
        },
        "id": "rhaevXo8KuA-",
        "outputId": "f6868fd1-8fa7-46a8-eb04-86beeee2eee4"
      },
      "execution_count": null,
      "outputs": [
        {
          "output_type": "stream",
          "name": "stdout",
          "text": [
            "RGB image detected\n",
            "Loaded RGB shape: (50232, 3)\n",
            "[[255 255 255]\n",
            " [255 255 255]\n",
            " [255 255 255]\n",
            " [255 255 255]\n",
            " [255 255 255]]\n"
          ]
        }
      ]
    }
  ]
}